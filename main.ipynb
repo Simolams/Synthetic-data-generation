{
 "cells": [
  {
   "cell_type": "code",
   "execution_count": 47,
   "metadata": {},
   "outputs": [
    {
     "data": {
      "text/plain": [
       "<module 'poo' from 'c:\\\\Users\\\\ey\\\\SynthChat\\\\poo.py'>"
      ]
     },
     "execution_count": 47,
     "metadata": {},
     "output_type": "execute_result"
    }
   ],
   "source": [
    "import synthdata \n",
    "from synthdata import * \n",
    "import importlib \n",
    "importlib.reload(synthdata)"
   ]
  },
  {
   "cell_type": "markdown",
   "metadata": {},
   "source": [
    "####  Sommaires : \n",
    "\n",
    "\n",
    "* Introduction\n",
    "* Installation and Setup\n",
    "* Explanation of Methods and Attributes\n",
    "* Usage Example\n",
    "* Performance and Limitations\n"
   ]
  },
  {
   "cell_type": "markdown",
   "metadata": {},
   "source": [
    "### *1* - Introduction\n",
    "\n",
    "\n",
    "- In this project, I have developed a Python class called Synthdata, designed to generate synthetic data corresponding to user requirements. With its robust set of methods and attributes, Synthdata empowers users to iteratively create customized datasets using queries."
   ]
  },
  {
   "cell_type": "markdown",
   "metadata": {},
   "source": [
    "### *2* - Installation and Setup\n",
    "\n",
    "\n",
    "- Start the Python interpreter using Python 3.11.0\n",
    "  Créer un environnement anaconda pour python en utilisant \n",
    "  \n",
    "  => conda create --name pdi python=3.11.0\n",
    "  \n",
    "  \n",
    "- Install requirements.txt => pip install -r requirements.txt\n"
   ]
  },
  {
   "cell_type": "markdown",
   "metadata": {},
   "source": [
    "### *3* - Explanation of Methods and Attributes\n",
    "\n",
    "\n",
    "##### Les Méthodes Principales : \n",
    "\n",
    "**-generate_prompt :** Cette fonction permet de créer une chaîne de caractères contenant la description de chaque colonne à partir du dataspec.\n",
    "\n",
    "**-create_chain :** Cette fonction permet de créer une chaîne longchain, qui est une instance conversationnelle avec une mémoire, permettant d'interagir avec l'utilisateur par des prompts.\n",
    "\n",
    "**-generate_data :** Cette fonction, basée sur une chaîne longchain créée par create_chain, permet de générer une première version des données synthétiques à partir des contraintes par colonnes venant du dataspec et aussi à partir des contraintes par lignes.\n",
    "\n",
    "**-handle_user_query :** Cette fonction, toujours basée sur la même instance de chaîne, permet de modifier le dataset généré suivant une nouvelle requête utilisateur.\n",
    "\n",
    "\n",
    "\n",
    "##### Les Méthodes Auxiliaires :\n",
    "\n",
    "**-_sanitize_output :** le llm generer le code de cette format '```python  [script] ....```' et cette fonction permet de nettoyer l'output et récuperer le code.\n",
    "\n",
    "\n",
    "**-execute_code :** - Cette fonction prend le code sous forme de chaîne de caractères, l'écrit dans un fichier .py et l'exécute en utilisant subprocess.\n",
    "\n",
    "!! Cette fonction exécute le code dans l'environnement anacoda (python) spécifié dés la création d'une instance Synthdata!!\n",
    "\n",
    "**-run_code_and_get_error :** Cette fonction prend en argument un code au format [str] et l'exécute. Le problème avec cette fonction est qu'il faut s'assurer que le code s'exécute dans le bon environnement. Sinon, il faut mettre debug = False dans le code.\n",
    "\n",
    "**-run_code_with_debug :** - Cette fonction débogue le code et est utilisée lors de la première génération de code. Elle prend en argument un code, récupère ensuite un message d'erreur et régénère un prompt afin de déboguer le code.\n",
    "\n",
    "Il faut mettre debug = True pour exécuter le code avec la boucle de débogage, sinon *run-code-with-debug* fonctionne comme *execute-code*.\n",
    "\n",
    "\n",
    "\n",
    "##### Les attributs :\n",
    "\n",
    "L'attribut le plus important à mettre en place dès la création d'une instance de Synthdata est le *conda_env_name*. Ce dernier représente le nom de l'environnement qui contient les bibliothèques nécessaires pour ce projet afin d'exécuter les codes générés par le LLM.\n",
    "\n",
    "Pour les autres attributs tels que chain, dataspec, dataset, etc., ils seront créés au fur et à mesure de l'utilisation des fonctions."
   ]
  },
  {
   "cell_type": "markdown",
   "metadata": {},
   "source": [
    "### *4* - Exemple d'usage \n",
    "\n",
    "-En premier temps on va créer l'instance d'outils et par la suite explorer les attributs et les méthodes attribuées."
   ]
  },
  {
   "cell_type": "code",
   "execution_count": 8,
   "metadata": {},
   "outputs": [],
   "source": [
    "# Création d'une instance SynthData \n",
    "\n",
    "conda_env_name = \"pdi\"\n",
    "engine_generator = SynthData(conda_env_name = \"pdi\")\n",
    "\n",
    "# importer des contraintes par colonnes\n",
    "dataspec = pd.read_excel(\"data\\dataspecs3.xlsx\")"
   ]
  },
  {
   "cell_type": "markdown",
   "metadata": {},
   "source": [
    "-L'outil peut principalement prendre trois entrées externes : la dataspec, les contraintes par lignes et les requêtes d'utilisateur pour personnaliser le dataset généré. Il prend également en compte la requête pour l'agent Chatplot afin de générer des graphiques sur les données.\n",
    "\n",
    "-En pratique, dès la création d'une instance, l'outil prend en entrée la dataspec et les contraintes. Une fois que nous avons la dataspec, nous la passons par la méthode **generate-prompt** afin de convertir les descriptions des colonnes en prompts."
   ]
  },
  {
   "cell_type": "code",
   "execution_count": 9,
   "metadata": {},
   "outputs": [],
   "source": [
    "# Passage de la dataspec (excel) en  prompt (string)\n",
    "engine_generator.columns_description = engine_generator.generate_prompt(dataspec)\n",
    "additional_constraint  = \"\"\"  Generate dataset with 200 rows please the first name and last name should be corresponded to the email format\"\"\""
   ]
  },
  {
   "cell_type": "code",
   "execution_count": 16,
   "metadata": {},
   "outputs": [
    {
     "data": {
      "text/html": [
       "<pre style=\"white-space:pre;overflow-x:auto;line-height:normal;font-family:Menlo,'DejaVu Sans Mono',consolas,'Courier New',monospace\">-CLIENT_ID\n",
       "  Description :  -Unique identifier for each client-\n",
       "  Range values :  The values should be between <span style=\"color: #008080; text-decoration-color: #008080; font-weight: bold\">1</span> and <span style=\"color: #008080; text-decoration-color: #008080; font-weight: bold\">1000000000</span>\n",
       "\n",
       "-FIRST_NAME\n",
       "  Description :  -First name of the client-\n",
       " \n",
       "-LAST_NAME\n",
       "  Description :  -Last name of the client-\n",
       " \n",
       "-DOB\n",
       "  Description :  -Date of birth of the client-\n",
       "  With the following FORMAT : YYYY-MM-DD\n",
       "\n",
       "-GENDER\n",
       "  Description :  -Gender of the client-\n",
       "  MODALITIES : The column contains the respected modalities : Male/Female/other With the following frequencies :  \n",
       "<span style=\"color: #008080; text-decoration-color: #008080; font-weight: bold\">0.3</span>/<span style=\"color: #008080; text-decoration-color: #008080; font-weight: bold\">0.6</span>/<span style=\"color: #008080; text-decoration-color: #008080; font-weight: bold\">0.1</span>\n",
       "\n",
       "-EMAIL\n",
       "  Description :  -Email address of the client-\n",
       "  With the following FORMAT : lastname.Name@ey.fr\n",
       "\n",
       "-PHONE\n",
       "  Description :  -Phone number of the client-\n",
       "  With the following FORMAT : <span style=\"color: #008080; text-decoration-color: #008080; font-weight: bold\">10</span> digits start by +<span style=\"color: #008080; text-decoration-color: #008080; font-weight: bold\">33</span> <span style=\"color: #008080; text-decoration-color: #008080; font-weight: bold\">7</span> \n",
       "\n",
       "-ADDRESS\n",
       "  Description :  -Residential address of the client-\n",
       " \n",
       "-ACCOUNT_TYPE\n",
       "  Description :  -Type of bank account-\n",
       "  MODALITIES : The column contains the respected modalities : Checking/Savings/Business With the following \n",
       "frequencies : <span style=\"color: #008080; text-decoration-color: #008080; font-weight: bold\">0.1</span>/<span style=\"color: #008080; text-decoration-color: #008080; font-weight: bold\">0.8</span>/<span style=\"color: #008080; text-decoration-color: #008080; font-weight: bold\">0.1</span>\n",
       "\n",
       "-ACCOUNT_BALANCE\n",
       "  Description :  -Current balance in the account-\n",
       "  With the following frequencies : A normal distribution with mean = <span style=\"color: #008080; text-decoration-color: #008080; font-weight: bold\">50</span> and std = <span style=\"color: #008080; text-decoration-color: #008080; font-weight: bold\">5</span>\n",
       " Range values :  The values should be between <span style=\"color: #008080; text-decoration-color: #008080; font-weight: bold\">0</span> and <span style=\"color: #008080; text-decoration-color: #008080; font-weight: bold\">1000000000</span>\n",
       "\n",
       "-ACCOUNT_OPEN_DATE\n",
       "  Description :  -Date when the account was opened-\n",
       "  With the following FORMAT : YYYY-MM-DD\n",
       "\n",
       "-LOAN_STATUS\n",
       "  Description :  -Status of any loan taken by the client-\n",
       "  MODALITIES : The column contains the respected modalities : Active/Closed/Default\n",
       "-CREDIT_SCORE\n",
       "  Description :  -Credit score of the client-\n",
       "  Range values :  The values should be between <span style=\"color: #008080; text-decoration-color: #008080; font-weight: bold\">20</span> and <span style=\"color: #008080; text-decoration-color: #008080; font-weight: bold\">200</span>\n",
       "\n",
       "-EMPLOYMENT_STATUS\n",
       "  Description :  -Employment status of the client-\n",
       "  MODALITIES : The column contains the respected modalities : Employed/Unemployed/Self-Employed/Retired\n",
       "\n",
       "Important: Make sure to respect all of these textual and numeric constraints\n",
       "</pre>\n"
      ],
      "text/plain": [
       "-CLIENT_ID\n",
       "  Description :  -Unique identifier for each client-\n",
       "  Range values :  The values should be between \u001b[1;36m1\u001b[0m and \u001b[1;36m1000000000\u001b[0m\n",
       "\n",
       "-FIRST_NAME\n",
       "  Description :  -First name of the client-\n",
       " \n",
       "-LAST_NAME\n",
       "  Description :  -Last name of the client-\n",
       " \n",
       "-DOB\n",
       "  Description :  -Date of birth of the client-\n",
       "  With the following FORMAT : YYYY-MM-DD\n",
       "\n",
       "-GENDER\n",
       "  Description :  -Gender of the client-\n",
       "  MODALITIES : The column contains the respected modalities : Male/Female/other With the following frequencies :  \n",
       "\u001b[1;36m0.3\u001b[0m/\u001b[1;36m0.6\u001b[0m/\u001b[1;36m0.1\u001b[0m\n",
       "\n",
       "-EMAIL\n",
       "  Description :  -Email address of the client-\n",
       "  With the following FORMAT : lastname.Name@ey.fr\n",
       "\n",
       "-PHONE\n",
       "  Description :  -Phone number of the client-\n",
       "  With the following FORMAT : \u001b[1;36m10\u001b[0m digits start by +\u001b[1;36m33\u001b[0m \u001b[1;36m7\u001b[0m \n",
       "\n",
       "-ADDRESS\n",
       "  Description :  -Residential address of the client-\n",
       " \n",
       "-ACCOUNT_TYPE\n",
       "  Description :  -Type of bank account-\n",
       "  MODALITIES : The column contains the respected modalities : Checking/Savings/Business With the following \n",
       "frequencies : \u001b[1;36m0.1\u001b[0m/\u001b[1;36m0.8\u001b[0m/\u001b[1;36m0.1\u001b[0m\n",
       "\n",
       "-ACCOUNT_BALANCE\n",
       "  Description :  -Current balance in the account-\n",
       "  With the following frequencies : A normal distribution with mean = \u001b[1;36m50\u001b[0m and std = \u001b[1;36m5\u001b[0m\n",
       " Range values :  The values should be between \u001b[1;36m0\u001b[0m and \u001b[1;36m1000000000\u001b[0m\n",
       "\n",
       "-ACCOUNT_OPEN_DATE\n",
       "  Description :  -Date when the account was opened-\n",
       "  With the following FORMAT : YYYY-MM-DD\n",
       "\n",
       "-LOAN_STATUS\n",
       "  Description :  -Status of any loan taken by the client-\n",
       "  MODALITIES : The column contains the respected modalities : Active/Closed/Default\n",
       "-CREDIT_SCORE\n",
       "  Description :  -Credit score of the client-\n",
       "  Range values :  The values should be between \u001b[1;36m20\u001b[0m and \u001b[1;36m200\u001b[0m\n",
       "\n",
       "-EMPLOYMENT_STATUS\n",
       "  Description :  -Employment status of the client-\n",
       "  MODALITIES : The column contains the respected modalities : Employed/Unemployed/Self-Employed/Retired\n",
       "\n",
       "Important: Make sure to respect all of these textual and numeric constraints\n"
      ]
     },
     "metadata": {},
     "output_type": "display_data"
    }
   ],
   "source": [
    "print(engine_generator.columns_description)"
   ]
  },
  {
   "cell_type": "markdown",
   "metadata": {},
   "source": [
    "-Les chaînes de caractères \"columns_description\" et \"additional_constraint\" vont être utilisées comme requêtes par la fonction generate_data afin de créer un prompt et générer des données synthétiques.\n",
    "\n",
    "-La fonction generate_data va demander à ChatGPT de créer un code qui va générer et enregistrer les données synthétiques dans un fichier \"fake_data.csv\"."
   ]
  },
  {
   "cell_type": "markdown",
   "metadata": {},
   "source": [
    "--\n",
    "\n",
    "-La deuxième étape consiste à créer une instance conversationnelle contenant une mémoire, c'est le cerveau qui va interagir avec l'utilisateur afin de générer des données !"
   ]
  },
  {
   "cell_type": "code",
   "execution_count": 14,
   "metadata": {},
   "outputs": [
    {
     "data": {
      "text/html": [
       "<pre style=\"white-space:pre;overflow-x:auto;line-height:normal;font-family:Menlo,'DejaVu Sans Mono',consolas,'Courier New',monospace\">start run code with debug\n",
       "</pre>\n"
      ],
      "text/plain": [
       "start run code with debug\n"
      ]
     },
     "metadata": {},
     "output_type": "display_data"
    },
    {
     "data": {
      "text/html": [
       "<pre style=\"white-space:pre;overflow-x:auto;line-height:normal;font-family:Menlo,'DejaVu Sans Mono',consolas,'Courier New',monospace\">run query\n",
       "</pre>\n"
      ],
      "text/plain": [
       "run query\n"
      ]
     },
     "metadata": {},
     "output_type": "display_data"
    },
    {
     "data": {
      "text/html": [
       "<pre style=\"white-space:pre;overflow-x:auto;line-height:normal;font-family:Menlo,'DejaVu Sans Mono',consolas,'Courier New',monospace\">Get llm response \n",
       "</pre>\n"
      ],
      "text/plain": [
       "Get llm response \n"
      ]
     },
     "metadata": {},
     "output_type": "display_data"
    },
    {
     "data": {
      "text/html": [
       "<pre style=\"white-space:pre;overflow-x:auto;line-height:normal;font-family:Menlo,'DejaVu Sans Mono',consolas,'Courier New',monospace\">Get the code from the llm response\n",
       "</pre>\n"
      ],
      "text/plain": [
       "Get the code from the llm response\n"
      ]
     },
     "metadata": {},
     "output_type": "display_data"
    },
    {
     "data": {
      "text/html": [
       "<pre style=\"white-space:pre;overflow-x:auto;line-height:normal;font-family:Menlo,'DejaVu Sans Mono',consolas,'Courier New',monospace\">run the code using execute_code\n",
       "</pre>\n"
      ],
      "text/plain": [
       "run the code using execute_code\n"
      ]
     },
     "metadata": {},
     "output_type": "display_data"
    },
    {
     "data": {
      "text/html": [
       "<pre style=\"white-space:pre;overflow-x:auto;line-height:normal;font-family:Menlo,'DejaVu Sans Mono',consolas,'Courier New',monospace\">write the code\n",
       "</pre>\n"
      ],
      "text/plain": [
       "write the code\n"
      ]
     },
     "metadata": {},
     "output_type": "display_data"
    },
    {
     "data": {
      "text/html": [
       "<pre style=\"white-space:pre;overflow-x:auto;line-height:normal;font-family:Menlo,'DejaVu Sans Mono',consolas,'Courier New',monospace\">run the code writed using subprocess\n",
       "</pre>\n"
      ],
      "text/plain": [
       "run the code writed using subprocess\n"
      ]
     },
     "metadata": {},
     "output_type": "display_data"
    }
   ],
   "source": [
    "# Création d'une instance chain par longchain : \n",
    "\n",
    "chain , memory = engine_generator.create_chain()\n",
    "\n",
    "# Generer les données ! \n",
    "\n",
    "dataset = engine_generator.generate_data(engine_generator.columns_description,additional_constraint)\n",
    "\n",
    "# Si le code plante, pensez à recommencer la cellule."
   ]
  },
  {
   "cell_type": "code",
   "execution_count": 30,
   "metadata": {},
   "outputs": [
    {
     "data": {
      "text/html": [
       "<div>\n",
       "<style scoped>\n",
       "    .dataframe tbody tr th:only-of-type {\n",
       "        vertical-align: middle;\n",
       "    }\n",
       "\n",
       "    .dataframe tbody tr th {\n",
       "        vertical-align: top;\n",
       "    }\n",
       "\n",
       "    .dataframe thead th {\n",
       "        text-align: right;\n",
       "    }\n",
       "</style>\n",
       "<table border=\"1\" class=\"dataframe\">\n",
       "  <thead>\n",
       "    <tr style=\"text-align: right;\">\n",
       "      <th></th>\n",
       "      <th>CLIENT_ID</th>\n",
       "      <th>FIRST_NAME</th>\n",
       "      <th>LAST_NAME</th>\n",
       "      <th>DOB</th>\n",
       "      <th>GENDER</th>\n",
       "      <th>EMAIL</th>\n",
       "      <th>PHONE</th>\n",
       "      <th>ADDRESS</th>\n",
       "      <th>ACCOUNT_TYPE</th>\n",
       "      <th>ACCOUNT_BALANCE</th>\n",
       "      <th>ACCOUNT_OPEN_DATE</th>\n",
       "      <th>LOAN_STATUS</th>\n",
       "      <th>CREDIT_SCORE</th>\n",
       "      <th>EMPLOYMENT_STATUS</th>\n",
       "    </tr>\n",
       "  </thead>\n",
       "  <tbody>\n",
       "    <tr>\n",
       "      <th>0</th>\n",
       "      <td>534895719</td>\n",
       "      <td>Laura</td>\n",
       "      <td>Santiago</td>\n",
       "      <td>1991-01-14</td>\n",
       "      <td>Female</td>\n",
       "      <td>Santiago.Laura@ey.fr</td>\n",
       "      <td>+33 710433218</td>\n",
       "      <td>USCGC Robinson, FPO AA 12134</td>\n",
       "      <td>Savings</td>\n",
       "      <td>52</td>\n",
       "      <td>2022-04-18</td>\n",
       "      <td>Closed</td>\n",
       "      <td>94</td>\n",
       "      <td>Self-Employed</td>\n",
       "    </tr>\n",
       "    <tr>\n",
       "      <th>1</th>\n",
       "      <td>498972760</td>\n",
       "      <td>Daniel</td>\n",
       "      <td>Shepherd</td>\n",
       "      <td>1996-08-20</td>\n",
       "      <td>Female</td>\n",
       "      <td>Shepherd.Daniel@ey.fr</td>\n",
       "      <td>+33 719600133</td>\n",
       "      <td>667 Ariel Crossing Suite 628, Isabellaside, TN...</td>\n",
       "      <td>Savings</td>\n",
       "      <td>56</td>\n",
       "      <td>2022-03-26</td>\n",
       "      <td>Default</td>\n",
       "      <td>169</td>\n",
       "      <td>Employed</td>\n",
       "    </tr>\n",
       "    <tr>\n",
       "      <th>2</th>\n",
       "      <td>944505602</td>\n",
       "      <td>Claudia</td>\n",
       "      <td>Hernandez</td>\n",
       "      <td>1950-04-17</td>\n",
       "      <td>Female</td>\n",
       "      <td>Hernandez.Claudia@ey.fr</td>\n",
       "      <td>+33 789083863</td>\n",
       "      <td>41221 Rhodes Flats Suite 010, Davisview, VI 70122</td>\n",
       "      <td>Business</td>\n",
       "      <td>57</td>\n",
       "      <td>2020-06-02</td>\n",
       "      <td>Active</td>\n",
       "      <td>108</td>\n",
       "      <td>Employed</td>\n",
       "    </tr>\n",
       "    <tr>\n",
       "      <th>3</th>\n",
       "      <td>106406363</td>\n",
       "      <td>Mary</td>\n",
       "      <td>Solis</td>\n",
       "      <td>1962-08-19</td>\n",
       "      <td>Female</td>\n",
       "      <td>Solis.Mary@ey.fr</td>\n",
       "      <td>+33 779402654</td>\n",
       "      <td>5422 Rachel Wells Suite 092, Stewartchester, K...</td>\n",
       "      <td>Savings</td>\n",
       "      <td>57</td>\n",
       "      <td>2023-12-27</td>\n",
       "      <td>Default</td>\n",
       "      <td>194</td>\n",
       "      <td>Unemployed</td>\n",
       "    </tr>\n",
       "    <tr>\n",
       "      <th>4</th>\n",
       "      <td>857592371</td>\n",
       "      <td>Kyle</td>\n",
       "      <td>Beard</td>\n",
       "      <td>1944-09-07</td>\n",
       "      <td>Female</td>\n",
       "      <td>Beard.Kyle@ey.fr</td>\n",
       "      <td>+33 723511615</td>\n",
       "      <td>813 Warren Mountain Suite 563, North Heather, ...</td>\n",
       "      <td>Business</td>\n",
       "      <td>55</td>\n",
       "      <td>2023-02-15</td>\n",
       "      <td>Default</td>\n",
       "      <td>40</td>\n",
       "      <td>Employed</td>\n",
       "    </tr>\n",
       "  </tbody>\n",
       "</table>\n",
       "</div>"
      ],
      "text/plain": [
       "   CLIENT_ID FIRST_NAME  LAST_NAME         DOB  GENDER  \\\n",
       "0  534895719      Laura   Santiago  1991-01-14  Female   \n",
       "1  498972760     Daniel   Shepherd  1996-08-20  Female   \n",
       "2  944505602    Claudia  Hernandez  1950-04-17  Female   \n",
       "3  106406363       Mary      Solis  1962-08-19  Female   \n",
       "4  857592371       Kyle      Beard  1944-09-07  Female   \n",
       "\n",
       "                     EMAIL          PHONE  \\\n",
       "0     Santiago.Laura@ey.fr  +33 710433218   \n",
       "1    Shepherd.Daniel@ey.fr  +33 719600133   \n",
       "2  Hernandez.Claudia@ey.fr  +33 789083863   \n",
       "3         Solis.Mary@ey.fr  +33 779402654   \n",
       "4         Beard.Kyle@ey.fr  +33 723511615   \n",
       "\n",
       "                                             ADDRESS ACCOUNT_TYPE  \\\n",
       "0                       USCGC Robinson, FPO AA 12134      Savings   \n",
       "1  667 Ariel Crossing Suite 628, Isabellaside, TN...      Savings   \n",
       "2  41221 Rhodes Flats Suite 010, Davisview, VI 70122     Business   \n",
       "3  5422 Rachel Wells Suite 092, Stewartchester, K...      Savings   \n",
       "4  813 Warren Mountain Suite 563, North Heather, ...     Business   \n",
       "\n",
       "   ACCOUNT_BALANCE ACCOUNT_OPEN_DATE LOAN_STATUS  CREDIT_SCORE  \\\n",
       "0               52        2022-04-18      Closed            94   \n",
       "1               56        2022-03-26     Default           169   \n",
       "2               57        2020-06-02      Active           108   \n",
       "3               57        2023-12-27     Default           194   \n",
       "4               55        2023-02-15     Default            40   \n",
       "\n",
       "  EMPLOYMENT_STATUS  \n",
       "0     Self-Employed  \n",
       "1          Employed  \n",
       "2          Employed  \n",
       "3        Unemployed  \n",
       "4          Employed  "
      ]
     },
     "execution_count": 30,
     "metadata": {},
     "output_type": "execute_result"
    }
   ],
   "source": [
    "dataset.head()"
   ]
  },
  {
   "cell_type": "markdown",
   "metadata": {},
   "source": [
    "=> On remarque bien que les données générées respectent bien les modalités comme les colonnes \"ACCOUNT_TYPE\", \"LOAN_STATUS\" et autres avec leurs contraintes fréquentielle, les contraintes textuelles sur les emails ainsi que le nombre de lignes comme mentionné dans additional_constraints.\n",
    "\n",
    "=> Dans le cas contraire on peut personnaliser les données en utilisant la fonction **handle_user_query**. "
   ]
  },
  {
   "cell_type": "code",
   "execution_count": 33,
   "metadata": {},
   "outputs": [
    {
     "data": {
      "text/html": [
       "<pre style=\"white-space:pre;overflow-x:auto;line-height:normal;font-family:Menlo,'DejaVu Sans Mono',consolas,'Courier New',monospace\">write the code\n",
       "</pre>\n"
      ],
      "text/plain": [
       "write the code\n"
      ]
     },
     "metadata": {},
     "output_type": "display_data"
    },
    {
     "data": {
      "text/html": [
       "<pre style=\"white-space:pre;overflow-x:auto;line-height:normal;font-family:Menlo,'DejaVu Sans Mono',consolas,'Courier New',monospace\">run the code writed using subprocess\n",
       "</pre>\n"
      ],
      "text/plain": [
       "run the code writed using subprocess\n"
      ]
     },
     "metadata": {},
     "output_type": "display_data"
    }
   ],
   "source": [
    "#  On peut tester un exemple qui repose sur la personnalisation des données en modifiant une colonne en fonction d'une autre.\n",
    "user_query = \"Please ensure that the values in the ACCOUNT_BALANCE column for females are greater than 500.\"\n",
    "\n",
    "# Customiser la dataset : \n",
    "df = engine_generator.handle_user_query(user_query)"
   ]
  },
  {
   "cell_type": "code",
   "execution_count": 35,
   "metadata": {},
   "outputs": [
    {
     "data": {
      "text/html": [
       "<div>\n",
       "<style scoped>\n",
       "    .dataframe tbody tr th:only-of-type {\n",
       "        vertical-align: middle;\n",
       "    }\n",
       "\n",
       "    .dataframe tbody tr th {\n",
       "        vertical-align: top;\n",
       "    }\n",
       "\n",
       "    .dataframe thead th {\n",
       "        text-align: right;\n",
       "    }\n",
       "</style>\n",
       "<table border=\"1\" class=\"dataframe\">\n",
       "  <thead>\n",
       "    <tr style=\"text-align: right;\">\n",
       "      <th></th>\n",
       "      <th>CLIENT_ID</th>\n",
       "      <th>FIRST_NAME</th>\n",
       "      <th>LAST_NAME</th>\n",
       "      <th>DOB</th>\n",
       "      <th>GENDER</th>\n",
       "      <th>EMAIL</th>\n",
       "      <th>PHONE</th>\n",
       "      <th>ADDRESS</th>\n",
       "      <th>ACCOUNT_TYPE</th>\n",
       "      <th>ACCOUNT_BALANCE</th>\n",
       "      <th>ACCOUNT_OPEN_DATE</th>\n",
       "      <th>LOAN_STATUS</th>\n",
       "      <th>CREDIT_SCORE</th>\n",
       "      <th>EMPLOYMENT_STATUS</th>\n",
       "    </tr>\n",
       "  </thead>\n",
       "  <tbody>\n",
       "    <tr>\n",
       "      <th>0</th>\n",
       "      <td>534895719</td>\n",
       "      <td>Norman</td>\n",
       "      <td>Carey</td>\n",
       "      <td>2003-03-25</td>\n",
       "      <td>Female</td>\n",
       "      <td>Carey.Norman@ey.fr</td>\n",
       "      <td>+33 710433218</td>\n",
       "      <td>02622 David Junction Suite 311, Alexischester,...</td>\n",
       "      <td>Savings</td>\n",
       "      <td>500</td>\n",
       "      <td>2022-01-22</td>\n",
       "      <td>Closed</td>\n",
       "      <td>94</td>\n",
       "      <td>Self-Employed</td>\n",
       "    </tr>\n",
       "    <tr>\n",
       "      <th>1</th>\n",
       "      <td>498972760</td>\n",
       "      <td>Walter</td>\n",
       "      <td>Salas</td>\n",
       "      <td>2000-03-16</td>\n",
       "      <td>Female</td>\n",
       "      <td>Salas.Walter@ey.fr</td>\n",
       "      <td>+33 719600133</td>\n",
       "      <td>73225 Vanessa Walk, Lake Leslie, ME 73249</td>\n",
       "      <td>Savings</td>\n",
       "      <td>500</td>\n",
       "      <td>2021-02-21</td>\n",
       "      <td>Default</td>\n",
       "      <td>169</td>\n",
       "      <td>Employed</td>\n",
       "    </tr>\n",
       "    <tr>\n",
       "      <th>2</th>\n",
       "      <td>944505602</td>\n",
       "      <td>Justin</td>\n",
       "      <td>Jenkins</td>\n",
       "      <td>1943-02-08</td>\n",
       "      <td>Female</td>\n",
       "      <td>Jenkins.Justin@ey.fr</td>\n",
       "      <td>+33 789083863</td>\n",
       "      <td>USNV Combs, FPO AA 24640</td>\n",
       "      <td>Business</td>\n",
       "      <td>500</td>\n",
       "      <td>2021-06-29</td>\n",
       "      <td>Active</td>\n",
       "      <td>108</td>\n",
       "      <td>Employed</td>\n",
       "    </tr>\n",
       "    <tr>\n",
       "      <th>3</th>\n",
       "      <td>106406363</td>\n",
       "      <td>Holly</td>\n",
       "      <td>Logan</td>\n",
       "      <td>1940-11-24</td>\n",
       "      <td>Female</td>\n",
       "      <td>Logan.Holly@ey.fr</td>\n",
       "      <td>+33 779402654</td>\n",
       "      <td>4525 Sheppard Lights, Reyeshaven, MP 86455</td>\n",
       "      <td>Savings</td>\n",
       "      <td>500</td>\n",
       "      <td>2019-07-17</td>\n",
       "      <td>Default</td>\n",
       "      <td>194</td>\n",
       "      <td>Unemployed</td>\n",
       "    </tr>\n",
       "    <tr>\n",
       "      <th>4</th>\n",
       "      <td>857592371</td>\n",
       "      <td>Emma</td>\n",
       "      <td>Wolfe</td>\n",
       "      <td>1935-12-30</td>\n",
       "      <td>Female</td>\n",
       "      <td>Wolfe.Emma@ey.fr</td>\n",
       "      <td>+33 723511615</td>\n",
       "      <td>USCGC Patterson, FPO AP 06650</td>\n",
       "      <td>Business</td>\n",
       "      <td>500</td>\n",
       "      <td>2019-04-07</td>\n",
       "      <td>Default</td>\n",
       "      <td>40</td>\n",
       "      <td>Employed</td>\n",
       "    </tr>\n",
       "    <tr>\n",
       "      <th>...</th>\n",
       "      <td>...</td>\n",
       "      <td>...</td>\n",
       "      <td>...</td>\n",
       "      <td>...</td>\n",
       "      <td>...</td>\n",
       "      <td>...</td>\n",
       "      <td>...</td>\n",
       "      <td>...</td>\n",
       "      <td>...</td>\n",
       "      <td>...</td>\n",
       "      <td>...</td>\n",
       "      <td>...</td>\n",
       "      <td>...</td>\n",
       "      <td>...</td>\n",
       "    </tr>\n",
       "    <tr>\n",
       "      <th>195</th>\n",
       "      <td>973569565</td>\n",
       "      <td>William</td>\n",
       "      <td>York</td>\n",
       "      <td>1933-05-18</td>\n",
       "      <td>Female</td>\n",
       "      <td>York.William@ey.fr</td>\n",
       "      <td>+33 780793597</td>\n",
       "      <td>96615 Savannah Lakes Apt. 182, New Madison, MP...</td>\n",
       "      <td>Business</td>\n",
       "      <td>500</td>\n",
       "      <td>2023-09-18</td>\n",
       "      <td>Closed</td>\n",
       "      <td>28</td>\n",
       "      <td>Self-Employed</td>\n",
       "    </tr>\n",
       "    <tr>\n",
       "      <th>196</th>\n",
       "      <td>666759208</td>\n",
       "      <td>Cynthia</td>\n",
       "      <td>Bell</td>\n",
       "      <td>1947-07-13</td>\n",
       "      <td>Other</td>\n",
       "      <td>Bell.Cynthia@ey.fr</td>\n",
       "      <td>+33 782071518</td>\n",
       "      <td>4611 Shelton Park Apt. 467, Port Gabriella, AS...</td>\n",
       "      <td>Savings</td>\n",
       "      <td>45</td>\n",
       "      <td>2019-12-10</td>\n",
       "      <td>Closed</td>\n",
       "      <td>91</td>\n",
       "      <td>Self-Employed</td>\n",
       "    </tr>\n",
       "    <tr>\n",
       "      <th>197</th>\n",
       "      <td>959582085</td>\n",
       "      <td>Kristina</td>\n",
       "      <td>Wilson</td>\n",
       "      <td>1972-09-10</td>\n",
       "      <td>Male</td>\n",
       "      <td>Wilson.Kristina@ey.fr</td>\n",
       "      <td>+33 720377889</td>\n",
       "      <td>844 Howard Curve, Wilsonhaven, NC 56406</td>\n",
       "      <td>Savings</td>\n",
       "      <td>45</td>\n",
       "      <td>2019-09-09</td>\n",
       "      <td>Active</td>\n",
       "      <td>79</td>\n",
       "      <td>Retired</td>\n",
       "    </tr>\n",
       "    <tr>\n",
       "      <th>198</th>\n",
       "      <td>787090381</td>\n",
       "      <td>Dawn</td>\n",
       "      <td>Williams</td>\n",
       "      <td>1977-05-26</td>\n",
       "      <td>Female</td>\n",
       "      <td>Williams.Dawn@ey.fr</td>\n",
       "      <td>+33 725546659</td>\n",
       "      <td>84550 Pena Ferry, Katherineview, OK 28686</td>\n",
       "      <td>Business</td>\n",
       "      <td>500</td>\n",
       "      <td>2023-01-11</td>\n",
       "      <td>Default</td>\n",
       "      <td>75</td>\n",
       "      <td>Retired</td>\n",
       "    </tr>\n",
       "    <tr>\n",
       "      <th>199</th>\n",
       "      <td>764573538</td>\n",
       "      <td>Megan</td>\n",
       "      <td>Jenkins</td>\n",
       "      <td>1961-04-29</td>\n",
       "      <td>Female</td>\n",
       "      <td>Jenkins.Megan@ey.fr</td>\n",
       "      <td>+33 705151864</td>\n",
       "      <td>567 James Viaduct Apt. 613, Guzmanborough, WY ...</td>\n",
       "      <td>Savings</td>\n",
       "      <td>500</td>\n",
       "      <td>2023-12-31</td>\n",
       "      <td>Active</td>\n",
       "      <td>25</td>\n",
       "      <td>Retired</td>\n",
       "    </tr>\n",
       "  </tbody>\n",
       "</table>\n",
       "<p>200 rows × 14 columns</p>\n",
       "</div>"
      ],
      "text/plain": [
       "     CLIENT_ID FIRST_NAME LAST_NAME         DOB  GENDER  \\\n",
       "0    534895719     Norman     Carey  2003-03-25  Female   \n",
       "1    498972760     Walter     Salas  2000-03-16  Female   \n",
       "2    944505602     Justin   Jenkins  1943-02-08  Female   \n",
       "3    106406363      Holly     Logan  1940-11-24  Female   \n",
       "4    857592371       Emma     Wolfe  1935-12-30  Female   \n",
       "..         ...        ...       ...         ...     ...   \n",
       "195  973569565    William      York  1933-05-18  Female   \n",
       "196  666759208    Cynthia      Bell  1947-07-13   Other   \n",
       "197  959582085   Kristina    Wilson  1972-09-10    Male   \n",
       "198  787090381       Dawn  Williams  1977-05-26  Female   \n",
       "199  764573538      Megan   Jenkins  1961-04-29  Female   \n",
       "\n",
       "                     EMAIL          PHONE  \\\n",
       "0       Carey.Norman@ey.fr  +33 710433218   \n",
       "1       Salas.Walter@ey.fr  +33 719600133   \n",
       "2     Jenkins.Justin@ey.fr  +33 789083863   \n",
       "3        Logan.Holly@ey.fr  +33 779402654   \n",
       "4         Wolfe.Emma@ey.fr  +33 723511615   \n",
       "..                     ...            ...   \n",
       "195     York.William@ey.fr  +33 780793597   \n",
       "196     Bell.Cynthia@ey.fr  +33 782071518   \n",
       "197  Wilson.Kristina@ey.fr  +33 720377889   \n",
       "198    Williams.Dawn@ey.fr  +33 725546659   \n",
       "199    Jenkins.Megan@ey.fr  +33 705151864   \n",
       "\n",
       "                                               ADDRESS ACCOUNT_TYPE  \\\n",
       "0    02622 David Junction Suite 311, Alexischester,...      Savings   \n",
       "1            73225 Vanessa Walk, Lake Leslie, ME 73249      Savings   \n",
       "2                             USNV Combs, FPO AA 24640     Business   \n",
       "3           4525 Sheppard Lights, Reyeshaven, MP 86455      Savings   \n",
       "4                        USCGC Patterson, FPO AP 06650     Business   \n",
       "..                                                 ...          ...   \n",
       "195  96615 Savannah Lakes Apt. 182, New Madison, MP...     Business   \n",
       "196  4611 Shelton Park Apt. 467, Port Gabriella, AS...      Savings   \n",
       "197            844 Howard Curve, Wilsonhaven, NC 56406      Savings   \n",
       "198          84550 Pena Ferry, Katherineview, OK 28686     Business   \n",
       "199  567 James Viaduct Apt. 613, Guzmanborough, WY ...      Savings   \n",
       "\n",
       "     ACCOUNT_BALANCE ACCOUNT_OPEN_DATE LOAN_STATUS  CREDIT_SCORE  \\\n",
       "0                500        2022-01-22      Closed            94   \n",
       "1                500        2021-02-21     Default           169   \n",
       "2                500        2021-06-29      Active           108   \n",
       "3                500        2019-07-17     Default           194   \n",
       "4                500        2019-04-07     Default            40   \n",
       "..               ...               ...         ...           ...   \n",
       "195              500        2023-09-18      Closed            28   \n",
       "196               45        2019-12-10      Closed            91   \n",
       "197               45        2019-09-09      Active            79   \n",
       "198              500        2023-01-11     Default            75   \n",
       "199              500        2023-12-31      Active            25   \n",
       "\n",
       "    EMPLOYMENT_STATUS  \n",
       "0       Self-Employed  \n",
       "1            Employed  \n",
       "2            Employed  \n",
       "3          Unemployed  \n",
       "4            Employed  \n",
       "..                ...  \n",
       "195     Self-Employed  \n",
       "196     Self-Employed  \n",
       "197           Retired  \n",
       "198           Retired  \n",
       "199           Retired  \n",
       "\n",
       "[200 rows x 14 columns]"
      ]
     },
     "execution_count": 35,
     "metadata": {},
     "output_type": "execute_result"
    }
   ],
   "source": [
    "df"
   ]
  },
  {
   "cell_type": "code",
   "execution_count": 42,
   "metadata": {},
   "outputs": [
    {
     "data": {
      "text/plain": [
       "<Axes: xlabel='GENDER'>"
      ]
     },
     "execution_count": 42,
     "metadata": {},
     "output_type": "execute_result"
    },
    {
     "data": {
      "image/png": "[encoded data removed]",
      "text/plain": [
       "<Figure size 640x480 with 1 Axes>"
      ]
     },
     "metadata": {},
     "output_type": "display_data"
    }
   ],
   "source": [
    "# On peut vérifier dans les données : \n",
    "\n",
    "df.groupby(['GENDER'])['ACCOUNT_BALANCE'].mean().plot.bar()"
   ]
  },
  {
   "cell_type": "markdown",
   "metadata": {},
   "source": [
    "- La dataframe est bien corrigée ! (Sinon, il est recommandé de relancer la cellule.)\n",
    "\n",
    "La dataframe est bien corrigée ! On peut s'amuser en ajoutant d'autres requêtes pour remarquer qu'on peut personnaliser les données sans les régénérer à zéro. Donc, la contrainte précédente **user_query**  sera toujours respectée."
   ]
  },
  {
   "cell_type": "code",
   "execution_count": 11,
   "metadata": {},
   "outputs": [
    {
     "data": {
      "text/html": [
       "<pre style=\"white-space:pre;overflow-x:auto;line-height:normal;font-family:Menlo,'DejaVu Sans Mono',consolas,'Courier New',monospace\">write the code\n",
       "</pre>\n"
      ],
      "text/plain": [
       "write the code\n"
      ]
     },
     "metadata": {},
     "output_type": "display_data"
    },
    {
     "data": {
      "text/html": [
       "<pre style=\"white-space:pre;overflow-x:auto;line-height:normal;font-family:Menlo,'DejaVu Sans Mono',consolas,'Courier New',monospace\">run the code writed using subprocess\n",
       "</pre>\n"
      ],
      "text/plain": [
       "run the code writed using subprocess\n"
      ]
     },
     "metadata": {},
     "output_type": "display_data"
    }
   ],
   "source": [
    "user_query = \"Ajouter une requete de votre choix !\"\n",
    "\n",
    "# Customiser la dataset : \n",
    "df = engine_generator.handle_user_query(user_query)"
   ]
  },
  {
   "cell_type": "markdown",
   "metadata": {},
   "source": [
    "- On peut regarder l'historique dans la conversation : \n",
    "\n",
    "\n",
    "Il est important de noter qu'afin d'éviter de dépasser la mémoire à chaque nouvelle requête, je vais conserver uniquement le premier message humain (vue qu'il contient columns_description) et les 3 ou 2 derniers messages entre les messages humains et les messages AI."
   ]
  },
  {
   "cell_type": "code",
   "execution_count": 45,
   "metadata": {},
   "outputs": [
    {
     "data": {
      "text/plain": [
       "[HumanMessage(content='Generate synthetic data using Python code with the following columns and their descriptions:\\n\\n                -CLIENT_ID\\n  Description :  -Unique identifier for each client-\\n  Range values :  The values should be between 1 and 1000000000\\n\\n-FIRST_NAME\\n  Description :  -First name of the client-\\n \\n-LAST_NAME\\n  Description :  -Last name of the client-\\n \\n-DOB\\n  Description :  -Date of birth of the client-\\n  With the following FORMAT : YYYY-MM-DD\\n\\n-GENDER\\n  Description :  -Gender of the client-\\n  MODALITIES : The column contains the respected modalities : Male/Female/other With the following frequencies :  0.3/0.6/0.1\\n\\n-EMAIL\\n  Description :  -Email address of the client-\\n  With the following FORMAT : lastname.Name@ey.fr\\n\\n-PHONE\\n  Description :  -Phone number of the client-\\n  With the following FORMAT : 10 digits start by +33 7 \\n\\n-ADDRESS\\n  Description :  -Residential address of the client-\\n \\n-ACCOUNT_TYPE\\n  Description :  -Type of bank account-\\n  MODALITIES : The column contains the respected modalities : Checking/Savings/Business With the following frequencies : 0.1/0.8/0.1\\n\\n-ACCOUNT_BALANCE\\n  Description :  -Current balance in the account-\\n  With the following frequencies : A normal distribution with mean = 50 and std = 5\\n Range values :  The values should be between 0 and 1000000000\\n\\n-ACCOUNT_OPEN_DATE\\n  Description :  -Date when the account was opened-\\n  With the following FORMAT : YYYY-MM-DD\\n\\n-LOAN_STATUS\\n  Description :  -Status of any loan taken by the client-\\n  MODALITIES : The column contains the respected modalities : Active/Closed/Default\\n-CREDIT_SCORE\\n  Description :  -Credit score of the client-\\n  Range values :  The values should be between 20 and 200\\n\\n-EMPLOYMENT_STATUS\\n  Description :  -Employment status of the client-\\n  MODALITIES : The column contains the respected modalities : Employed/Unemployed/Self-Employed/Retired\\n\\nImportant: Make sure to respect all of these textual and numeric constraints\\n\\n                and respect the additional constraint:\\n\\n                  Generate dataset with 200 rows please the first name and last name should be corresponded to the email format\\n\\n                Save the data to the following path: fake_data.csv\\n                '),\n",
       " AIMessage(content='```python\\nimport pandas as pd\\nimport numpy as np\\nimport random\\nfrom faker import Faker\\nimport datetime\\n\\n# Set random seed for reproducibility\\nnp.random.seed(42)\\nrandom.seed(42)\\n\\n# Generate synthetic data\\nfake = Faker()\\ndata = []\\n\\nfor _ in range(200):\\n    client_id = np.random.randint(1, 1000000001)\\n    first_name = fake.first_name()\\n    last_name = fake.last_name()\\n    dob = fake.date_of_birth(minimum_age=18, maximum_age=90).strftime(\\'%Y-%m-%d\\')\\n    gender = np.random.choice([\\'Male\\', \\'Female\\', \\'Other\\'], p=[0.3, 0.6, 0.1])\\n    email = f\"{last_name}.{first_name}@ey.fr\"\\n    phone = \"+33 7\" + \\'\\'.join(random.choice(\\'0123456789\\') for i in range(8))\\n    address = fake.address().replace(\"\\\\n\", \", \")\\n    account_type = np.random.choice([\\'Checking\\', \\'Savings\\', \\'Business\\'], p=[0.1, 0.8, 0.1])\\n    account_balance = max(0, min(int(np.random.normal(50, 5)), 1000000000))\\n    account_open_date = fake.date_between(start_date=\\'-5y\\', end_date=\\'today\\').strftime(\\'%Y-%m-%d\\')\\n    loan_status = np.random.choice([\\'Active\\', \\'Closed\\', \\'Default\\'])\\n    credit_score = np.random.randint(20, 201)\\n    employment_status = np.random.choice([\\'Employed\\', \\'Unemployed\\', \\'Self-Employed\\', \\'Retired\\'])\\n    \\n    data.append([client_id, first_name, last_name, dob, gender, email, phone, address, account_type, account_balance, account_open_date, loan_status, credit_score, employment_status])\\n\\n# Create DataFrame\\ndf = pd.DataFrame(data, columns=[\\'CLIENT_ID\\', \\'FIRST_NAME\\', \\'LAST_NAME\\', \\'DOB\\', \\'GENDER\\', \\'EMAIL\\', \\'PHONE\\', \\'ADDRESS\\', \\'ACCOUNT_TYPE\\', \\'ACCOUNT_BALANCE\\', \\'ACCOUNT_OPEN_DATE\\', \\'LOAN_STATUS\\', \\'CREDIT_SCORE\\', \\'EMPLOYMENT_STATUS\\'])\\n\\n# Save the data to fake_data.csv\\ndf.to_csv(\\'fake_data.csv\\', index=False)\\n```'),\n",
       " HumanMessage(content='Please ensure that the values in the ACCOUNT_TYPE column for females are greater than 500.'),\n",
       " AIMessage(content='```python\\nimport pandas as pd\\nimport numpy as np\\nimport random\\nfrom faker import Faker\\nimport datetime\\n\\n# Set random seed for reproducibility\\nnp.random.seed(42)\\nrandom.seed(42)\\n\\n# Generate synthetic data\\nfake = Faker()\\ndata = []\\n\\nfor _ in range(200):\\n    client_id = np.random.randint(1, 1000000001)\\n    first_name = fake.first_name()\\n    last_name = fake.last_name()\\n    dob = fake.date_of_birth(minimum_age=18, maximum_age=90).strftime(\\'%Y-%m-%d\\')\\n    gender = np.random.choice([\\'Male\\', \\'Female\\', \\'Other\\'], p=[0.3, 0.6, 0.1])\\n    email = f\"{last_name}.{first_name}@ey.fr\"\\n    phone = \"+33 7\" + \\'\\'.join(random.choice(\\'0123456789\\') for i in range(8))\\n    address = fake.address().replace(\"\\\\n\", \", \")\\n    account_type = np.random.choice([\\'Checking\\', \\'Savings\\', \\'Business\\'], p=[0.1, 0.8, 0.1])\\n    if gender == \\'Female\\':\\n        account_type = np.random.choice([\\'Savings\\', \\'Business\\'], p=[0.8, 0.2])\\n    account_balance = max(0, min(int(np.random.normal(50, 5)), 1000000000))\\n    account_open_date = fake.date_between(start_date=\\'-5y\\', end_date=\\'today\\').strftime(\\'%Y-%m-%d\\')\\n    loan_status = np.random.choice([\\'Active\\', \\'Closed\\', \\'Default\\'])\\n    credit_score = np.random.randint(20, 201)\\n    employment_status = np.random.choice([\\'Employed\\', \\'Unemployed\\', \\'Self-Employed\\', \\'Retired\\'])\\n    \\n    data.append([client_id, first_name, last_name, dob, gender, email, phone, address, account_type, account_balance, account_open_date, loan_status, credit_score, employment_status])\\n\\n# Create DataFrame\\ndf = pd.DataFrame(data, columns=[\\'CLIENT_ID\\', \\'FIRST_NAME\\', \\'LAST_NAME\\', \\'DOB\\', \\'GENDER\\', \\'EMAIL\\', \\'PHONE\\', \\'ADDRESS\\', \\'ACCOUNT_TYPE\\', \\'ACCOUNT_BALANCE\\', \\'ACCOUNT_OPEN_DATE\\', \\'LOAN_STATUS\\', \\'CREDIT_SCORE\\', \\'EMPLOYMENT_STATUS\\'])\\n\\n# Save the data to fake_data.csv\\ndf.to_csv(\\'fake_data.csv\\', index=False)\\n```'),\n",
       " HumanMessage(content='Please ensure that the values in the ACCOUNT_BALANCE column for females are greater than 500.'),\n",
       " AIMessage(content='```python\\nimport pandas as pd\\nimport numpy as np\\nimport random\\nfrom faker import Faker\\nimport datetime\\n\\n# Set random seed for reproducibility\\nnp.random.seed(42)\\nrandom.seed(42)\\n\\n# Generate synthetic data\\nfake = Faker()\\ndata = []\\n\\nfor _ in range(200):\\n    client_id = np.random.randint(1, 1000000001)\\n    first_name = fake.first_name()\\n    last_name = fake.last_name()\\n    dob = fake.date_of_birth(minimum_age=18, maximum_age=90).strftime(\\'%Y-%m-%d\\')\\n    gender = np.random.choice([\\'Male\\', \\'Female\\', \\'Other\\'], p=[0.3, 0.6, 0.1])\\n    email = f\"{last_name}.{first_name}@ey.fr\"\\n    phone = \"+33 7\" + \\'\\'.join(random.choice(\\'0123456789\\') for i in range(8))\\n    address = fake.address().replace(\"\\\\n\", \", \")\\n    account_type = np.random.choice([\\'Checking\\', \\'Savings\\', \\'Business\\'], p=[0.1, 0.8, 0.1])\\n    if gender == \\'Female\\':\\n        account_balance = max(500, min(int(np.random.normal(50, 5)), 1000000000))\\n    else:\\n        account_balance = max(0, min(int(np.random.normal(50, 5)), 1000000000))\\n    account_open_date = fake.date_between(start_date=\\'-5y\\', end_date=\\'today\\').strftime(\\'%Y-%m-%d\\')\\n    loan_status = np.random.choice([\\'Active\\', \\'Closed\\', \\'Default\\'])\\n    credit_score = np.random.randint(20, 201)\\n    employment_status = np.random.choice([\\'Employed\\', \\'Unemployed\\', \\'Self-Employed\\', \\'Retired\\'])\\n    \\n    data.append([client_id, first_name, last_name, dob, gender, email, phone, address, account_type, account_balance, account_open_date, loan_status, credit_score, employment_status])\\n\\n# Create DataFrame\\ndf = pd.DataFrame(data, columns=[\\'CLIENT_ID\\', \\'FIRST_NAME\\', \\'LAST_NAME\\', \\'DOB\\', \\'GENDER\\', \\'EMAIL\\', \\'PHONE\\', \\'ADDRESS\\', \\'ACCOUNT_TYPE\\', \\'ACCOUNT_BALANCE\\', \\'ACCOUNT_OPEN_DATE\\', \\'LOAN_STATUS\\', \\'CREDIT_SCORE\\', \\'EMPLOYMENT_STATUS\\'])\\n\\n# Save the data to fake_data.csv\\ndf.to_csv(\\'fake_data.csv\\', index=False)\\n```')]"
      ]
     },
     "execution_count": 45,
     "metadata": {},
     "output_type": "execute_result"
    }
   ],
   "source": [
    "engine_generator.chat_history.chat_memory.messages"
   ]
  },
  {
   "cell_type": "markdown",
   "metadata": {},
   "source": [
    "### *4* - Performance and Limitations\n",
    "\n",
    "\n",
    "\n",
    "\n",
    "\n",
    "=> L'outil génère des données avec une très bonne performance ; cependant, il peut arriver que le modèle produise un code non déboguable. Dans ce cas, il est nécessaire de redémarrer l'instance et de recommencer à zéro. Pour éviter ce problème, on peut lancer le code en utilisant debug = True, mais il est impératif de s'assurer que la fonction **run_code_and_get_error** exécute le code dans le bon environnement.\n",
    "\n",
    "\n",
    "=> Pendant la phase d'interaction avec l'outil par le biais de requêtes, il peut planter après plusieurs requêtes. Dans ce cas, il est recommandé de redémarrer l'outil à zéro.\n",
    "\n",
    "=> La qualité des prompts peut parfois garantir une bonne qualité des données générées.\n",
    "\n",
    "=> Dans le cas où les données générées ne respectent pas une ou plusieurs contraintes, il est recommandé d'utiliser **handle_user_query** afin de mieux personnaliser les données.\n",
    "\n",
    "=> Il existe une possibilité d'améliorer le prompt engineering mis en place dans ce code.\n",
    "\n",
    "=> Il est envisageable de gérer la mémoire de telle sorte que même si l'outil plante. Pendant l'initialisation, il puisse régénérer la dernière version générée pour ne pas avoir à refaire l'itération avec l'outil."
   ]
  }
 ],
 "metadata": {
  "kernelspec": {
   "display_name": "pdi",
   "language": "python",
   "name": "python3"
  },
  "language_info": {
   "codemirror_mode": {
    "name": "ipython",
    "version": 3
   },
   "file_extension": ".py",
   "mimetype": "text/x-python",
   "name": "python",
   "nbconvert_exporter": "python",
   "pygments_lexer": "ipython3",
   "version": "3.11.0"
  }
 },
 "nbformat": 4,
 "nbformat_minor": 2
}
